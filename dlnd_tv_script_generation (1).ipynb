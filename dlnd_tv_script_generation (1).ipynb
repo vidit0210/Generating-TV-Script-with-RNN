{
 "cells": [
  {
   "cell_type": "markdown",
   "metadata": {
    "deletable": true,
    "editable": true
   },
   "source": [
    "# TV Script Generation\n",
    "In this project, you'll generate your own [Simpsons](https://en.wikipedia.org/wiki/The_Simpsons) TV scripts using RNNs.  You'll be using part of the [Simpsons dataset](https://www.kaggle.com/wcukierski/the-simpsons-by-the-data) of scripts from 27 seasons.  The Neural Network you'll build will generate a new TV script for a scene at [Moe's Tavern](https://simpsonswiki.com/wiki/Moe's_Tavern).\n",
    "## Get the Data\n",
    "The data is already provided for you.  You'll be using a subset of the original dataset.  It consists of only the scenes in Moe's Tavern.  This doesn't include other versions of the tavern, like \"Moe's Cavern\", \"Flaming Moe's\", \"Uncle Moe's Family Feed-Bag\", etc.."
   ]
  },
  {
   "cell_type": "code",
   "execution_count": 57,
   "metadata": {
    "collapsed": false,
    "deletable": true,
    "editable": true
   },
   "outputs": [],
   "source": [
    "\"\"\"\n",
    "DON'T MODIFY ANYTHING IN THIS CELL\n",
    "\"\"\"\n",
    "import helper\n",
    "\n",
    "data_dir = './data/simpsons/moes_tavern_lines.txt'\n",
    "text = helper.load_data(data_dir)\n",
    "# Ignore notice, since we don't use it for analysing the data\n",
    "text = text[81:]"
   ]
  },
  {
   "cell_type": "markdown",
   "metadata": {
    "deletable": true,
    "editable": true
   },
   "source": [
    "## Explore the Data\n",
    "Play around with `view_sentence_range` to view different parts of the data."
   ]
  },
  {
   "cell_type": "code",
   "execution_count": 58,
   "metadata": {
    "collapsed": false,
    "deletable": true,
    "editable": true
   },
   "outputs": [
    {
     "name": "stdout",
     "output_type": "stream",
     "text": [
      "Dataset Stats\n",
      "Roughly the number of unique words: 11492\n",
      "Number of scenes: 262\n",
      "Average number of sentences in each scene: 15.248091603053435\n",
      "Number of lines: 4257\n",
      "Average number of words in each line: 11.50434578341555\n",
      "\n",
      "The sentences 0 to 10:\n",
      "Moe_Szyslak: (INTO PHONE) Moe's Tavern. Where the elite meet to drink.\n",
      "Bart_Simpson: Eh, yeah, hello, is Mike there? Last name, Rotch.\n",
      "Moe_Szyslak: (INTO PHONE) Hold on, I'll check. (TO BARFLIES) Mike Rotch. Mike Rotch. Hey, has anybody seen Mike Rotch, lately?\n",
      "Moe_Szyslak: (INTO PHONE) Listen you little puke. One of these days I'm gonna catch you, and I'm gonna carve my name on your back with an ice pick.\n",
      "Moe_Szyslak: What's the matter Homer? You're not your normal effervescent self.\n",
      "Homer_Simpson: I got my problems, Moe. Give me another one.\n",
      "Moe_Szyslak: Homer, hey, you should not drink to forget your problems.\n",
      "Barney_Gumble: Yeah, you should only drink to enhance your social skills.\n",
      "\n",
      "\n"
     ]
    }
   ],
   "source": [
    "view_sentence_range = (0, 10)\n",
    "\n",
    "\"\"\"\n",
    "DON'T MODIFY ANYTHING IN THIS CELL\n",
    "\"\"\"\n",
    "import numpy as np\n",
    "\n",
    "print('Dataset Stats')\n",
    "print('Roughly the number of unique words: {}'.format(len({word: None for word in text.split()})))\n",
    "scenes = text.split('\\n\\n')\n",
    "print('Number of scenes: {}'.format(len(scenes)))\n",
    "sentence_count_scene = [scene.count('\\n') for scene in scenes]\n",
    "print('Average number of sentences in each scene: {}'.format(np.average(sentence_count_scene)))\n",
    "\n",
    "sentences = [sentence for scene in scenes for sentence in scene.split('\\n')]\n",
    "print('Number of lines: {}'.format(len(sentences)))\n",
    "word_count_sentence = [len(sentence.split()) for sentence in sentences]\n",
    "print('Average number of words in each line: {}'.format(np.average(word_count_sentence)))\n",
    "\n",
    "print()\n",
    "print('The sentences {} to {}:'.format(*view_sentence_range))\n",
    "print('\\n'.join(text.split('\\n')[view_sentence_range[0]:view_sentence_range[1]]))"
   ]
  },
  {
   "cell_type": "markdown",
   "metadata": {
    "deletable": true,
    "editable": true
   },
   "source": [
    "## Implement Preprocessing Functions\n",
    "The first thing to do to any dataset is preprocessing.  Implement the following preprocessing functions below:\n",
    "- Lookup Table\n",
    "- Tokenize Punctuation\n",
    "\n",
    "### Lookup Table\n",
    "To create a word embedding, you first need to transform the words to ids.  In this function, create two dictionaries:\n",
    "- Dictionary to go from the words to an id, we'll call `vocab_to_int`\n",
    "- Dictionary to go from the id to word, we'll call `int_to_vocab`\n",
    "\n",
    "Return these dictionaries in the following tuple `(vocab_to_int, int_to_vocab)`"
   ]
  },
  {
   "cell_type": "code",
   "execution_count": 59,
   "metadata": {
    "collapsed": false,
    "deletable": true,
    "editable": true
   },
   "outputs": [
    {
     "name": "stdout",
     "output_type": "stream",
     "text": [
      "Tests Passed\n"
     ]
    }
   ],
   "source": [
    "import numpy as np\n",
    "import problem_unittests as tests\n",
    "\n",
    "def create_lookup_tables(text):\n",
    "    \"\"\"\n",
    "    Create lookup tables for vocabulary\n",
    "    :param text: The text of tv scripts split into words\n",
    "    :return: A tuple of dicts (vocab_to_int, int_to_vocab)\n",
    "    \"\"\"\n",
    "    # TODO: Implement Function\n",
    "    vocab = set(text)\n",
    "    vocab_to_int = {c: i for i, c in enumerate(vocab)}\n",
    "    int_to_vocab = dict(enumerate(vocab))\n",
    "    return(vocab_to_int,int_to_vocab)\n",
    "\n",
    "\n",
    "\"\"\"\n",
    "DON'T MODIFY ANYTHING IN THIS CELL THAT IS BELOW THIS LINE\n",
    "\"\"\"\n",
    "tests.test_create_lookup_tables(create_lookup_tables)"
   ]
  },
  {
   "cell_type": "markdown",
   "metadata": {
    "deletable": true,
    "editable": true
   },
   "source": [
    "### Tokenize Punctuation\n",
    "We'll be splitting the script into a word array using spaces as delimiters.  However, punctuations like periods and exclamation marks make it hard for the neural network to distinguish between the word \"bye\" and \"bye!\".\n",
    "\n",
    "Implement the function `token_lookup` to return a dict that will be used to tokenize symbols like \"!\" into \"||Exclamation_Mark||\".  Create a dictionary for the following symbols where the symbol is the key and value is the token:\n",
    "- Period ( . )\n",
    "- Comma ( , )\n",
    "- Quotation Mark ( \" )\n",
    "- Semicolon ( ; )\n",
    "- Exclamation mark ( ! )\n",
    "- Question mark ( ? )\n",
    "- Left Parentheses ( ( )\n",
    "- Right Parentheses ( ) )\n",
    "- Dash ( -- )\n",
    "- Return ( \\n )\n",
    "\n",
    "This dictionary will be used to token the symbols and add the delimiter (space) around it.  This separates the symbols as it's own word, making it easier for the neural network to predict on the next word. Make sure you don't use a token that could be confused as a word. Instead of using the token \"dash\", try using something like \"||dash||\"."
   ]
  },
  {
   "cell_type": "code",
   "execution_count": 60,
   "metadata": {
    "collapsed": false,
    "deletable": true,
    "editable": true
   },
   "outputs": [
    {
     "name": "stdout",
     "output_type": "stream",
     "text": [
      "Tests Passed\n"
     ]
    }
   ],
   "source": [
    "def token_lookup():\n",
    "    \"\"\"\n",
    "    Generate a dict to turn punctuation into a token.\n",
    "    :return: Tokenize dictionary where the key is the punctuation and the value is the token\n",
    "    \"\"\"\n",
    "    # TODO: Implement Function\n",
    "    values = ['||Period||','||Comma||','||Quotation_Mark||','||Semicolon||','||Exclamation_mark||','||Question_mark||','||Left_Parentheses||','||Right_Parentheses||','||Dash||','||Return||']\n",
    "    keys = ['.', ',', '\"', ';', '!', '?', '(', ')', '--','\\n'] \n",
    "    return (dict(zip(keys,values)))\n",
    "\n",
    "\n",
    "\"\"\"\n",
    "DON'T MODIFY ANYTHING IN THIS CELL THAT IS BELOW THIS LINE\n",
    "\"\"\"\n",
    "tests.test_tokenize(token_lookup)"
   ]
  },
  {
   "cell_type": "markdown",
   "metadata": {
    "deletable": true,
    "editable": true
   },
   "source": [
    "## Preprocess all the data and save it\n",
    "Running the code cell below will preprocess all the data and save it to file."
   ]
  },
  {
   "cell_type": "code",
   "execution_count": 61,
   "metadata": {
    "collapsed": false,
    "deletable": true,
    "editable": true
   },
   "outputs": [],
   "source": [
    "\"\"\"\n",
    "DON'T MODIFY ANYTHING IN THIS CELL\n",
    "\"\"\"\n",
    "# Preprocess Training, Validation, and Testing Data\n",
    "helper.preprocess_and_save_data(data_dir, token_lookup, create_lookup_tables)"
   ]
  },
  {
   "cell_type": "markdown",
   "metadata": {
    "deletable": true,
    "editable": true
   },
   "source": [
    "# Check Point\n",
    "This is your first checkpoint. If you ever decide to come back to this notebook or have to restart the notebook, you can start from here. The preprocessed data has been saved to disk."
   ]
  },
  {
   "cell_type": "code",
   "execution_count": 62,
   "metadata": {
    "collapsed": false,
    "deletable": true,
    "editable": true
   },
   "outputs": [],
   "source": [
    "\"\"\"\n",
    "DON'T MODIFY ANYTHING IN THIS CELL\n",
    "\"\"\"\n",
    "import helper\n",
    "import numpy as np\n",
    "import problem_unittests as tests\n",
    "\n",
    "int_text, vocab_to_int, int_to_vocab, token_dict = helper.load_preprocess()"
   ]
  },
  {
   "cell_type": "markdown",
   "metadata": {
    "deletable": true,
    "editable": true
   },
   "source": [
    "## Build the Neural Network\n",
    "You'll build the components necessary to build a RNN by implementing the following functions below:\n",
    "- get_inputs\n",
    "- get_init_cell\n",
    "- get_embed\n",
    "- build_rnn\n",
    "- build_nn\n",
    "- get_batches\n",
    "\n",
    "### Check the Version of TensorFlow and Access to GPU"
   ]
  },
  {
   "cell_type": "code",
   "execution_count": 63,
   "metadata": {
    "collapsed": false,
    "deletable": true,
    "editable": true
   },
   "outputs": [
    {
     "name": "stdout",
     "output_type": "stream",
     "text": [
      "TensorFlow Version: 1.0.0\n",
      "Default GPU Device: /gpu:0\n"
     ]
    }
   ],
   "source": [
    "\"\"\"\n",
    "DON'T MODIFY ANYTHING IN THIS CELL\n",
    "\"\"\"\n",
    "from distutils.version import LooseVersion\n",
    "import warnings\n",
    "import tensorflow as tf\n",
    "\n",
    "# Check TensorFlow Version\n",
    "assert LooseVersion(tf.__version__) >= LooseVersion('1.0'), 'Please use TensorFlow version 1.0 or newer'\n",
    "print('TensorFlow Version: {}'.format(tf.__version__))\n",
    "\n",
    "# Check for a GPU\n",
    "if not tf.test.gpu_device_name():\n",
    "    warnings.warn('No GPU found. Please use a GPU to train your neural network.')\n",
    "else:\n",
    "    print('Default GPU Device: {}'.format(tf.test.gpu_device_name()))"
   ]
  },
  {
   "cell_type": "markdown",
   "metadata": {
    "deletable": true,
    "editable": true
   },
   "source": [
    "### Input\n",
    "Implement the `get_inputs()` function to create TF Placeholders for the Neural Network.  It should create the following placeholders:\n",
    "- Input text placeholder named \"input\" using the [TF Placeholder](https://www.tensorflow.org/api_docs/python/tf/placeholder) `name` parameter.\n",
    "- Targets placeholder\n",
    "- Learning Rate placeholder\n",
    "\n",
    "Return the placeholders in the following the tuple `(Input, Targets, LearingRate)`"
   ]
  },
  {
   "cell_type": "code",
   "execution_count": 64,
   "metadata": {
    "collapsed": false,
    "deletable": true,
    "editable": true
   },
   "outputs": [
    {
     "name": "stdout",
     "output_type": "stream",
     "text": [
      "Tests Passed\n"
     ]
    }
   ],
   "source": [
    "def get_inputs():\n",
    "    \"\"\"\n",
    "    Create TF Placeholders for input, targets, and learning rate.\n",
    "    :return: Tuple (input, targets, learning rate)\n",
    "    \"\"\"\n",
    "    # TODO: Implement Function\n",
    "    input = tf.placeholder(tf.int32, shape=[None,None],name='input')\n",
    "    targets = tf.placeholder(tf.int32, shape=[None,None] ,name='targets')\n",
    "    learningrate= tf.placeholder(tf.float32,shape=None,name='learningrate')\n",
    "    \n",
    "    return input,targets,learningrate\n",
    "\n",
    "\n",
    "\"\"\"\n",
    "DON'T MODIFY ANYTHING IN THIS CELL THAT IS BELOW THIS LINE\n",
    "\"\"\"\n",
    "tests.test_get_inputs(get_inputs)"
   ]
  },
  {
   "cell_type": "markdown",
   "metadata": {
    "deletable": true,
    "editable": true
   },
   "source": [
    "### Build RNN Cell and Initialize\n",
    "Stack one or more [`BasicLSTMCells`](https://www.tensorflow.org/api_docs/python/tf/contrib/rnn/BasicLSTMCell) in a [`MultiRNNCell`](https://www.tensorflow.org/api_docs/python/tf/contrib/rnn/MultiRNNCell).\n",
    "- The Rnn size should be set using `rnn_size`\n",
    "- Initalize Cell State using the MultiRNNCell's [`zero_state()`](https://www.tensorflow.org/api_docs/python/tf/contrib/rnn/MultiRNNCell#zero_state) function\n",
    "    - Apply the name \"initial_state\" to the initial state using [`tf.identity()`](https://www.tensorflow.org/api_docs/python/tf/identity)\n",
    "\n",
    "Return the cell and initial state in the following tuple `(Cell, InitialState)`"
   ]
  },
  {
   "cell_type": "code",
   "execution_count": 65,
   "metadata": {
    "collapsed": false,
    "deletable": true,
    "editable": true
   },
   "outputs": [
    {
     "name": "stdout",
     "output_type": "stream",
     "text": [
      "Tests Passed\n"
     ]
    }
   ],
   "source": [
    "def get_init_cell(batch_size, rnn_size):\n",
    "    \"\"\"\n",
    "    Create an RNN Cell and initialize it.\n",
    "    :param batch_size: Size of batches\n",
    "    :param rnn_size: Size of RNNs\n",
    "    :return: Tuple (cell, initialize state)\n",
    "    \"\"\"\n",
    "    lstm_layers = 2\n",
    "    keep_prob = 0.5\n",
    "    lstm = tf.contrib.rnn.BasicLSTMCell(rnn_size)\n",
    "    drop = tf.contrib.rnn.DropoutWrapper(lstm, output_keep_prob=keep_prob)\n",
    "    cell = tf.contrib.rnn.MultiRNNCell([drop] * lstm_layers)\n",
    "    initial_state = cell.zero_state(batch_size, tf.int32)\n",
    "    initial_state = tf.identity(initial_state, name='initial_state')\n",
    "    return cell, initial_state\n",
    "\n",
    "\n",
    "\n",
    "\n",
    "\"\"\"\n",
    "DON'T MODIFY ANYTHING IN THIS CELL THAT IS BELOW THIS LINE\n",
    "\"\"\"\n",
    "tests.test_get_init_cell(get_init_cell)"
   ]
  },
  {
   "cell_type": "markdown",
   "metadata": {
    "deletable": true,
    "editable": true
   },
   "source": [
    "### Word Embedding\n",
    "Apply embedding to `input_data` using TensorFlow.  Return the embedded sequence."
   ]
  },
  {
   "cell_type": "code",
   "execution_count": 66,
   "metadata": {
    "collapsed": false,
    "deletable": true,
    "editable": true
   },
   "outputs": [
    {
     "name": "stdout",
     "output_type": "stream",
     "text": [
      "Tests Passed\n"
     ]
    }
   ],
   "source": [
    "def get_embed(input_data, vocab_size, embed_dim):\n",
    "    \"\"\"\n",
    "    Create embedding for <input_data>.\n",
    "    :param input_data: TF placeholder for text input.\n",
    "    :param vocab_size: Number of words in vocabulary.\n",
    "    :param embed_dim: Number of embedding dimensions\n",
    "    :return: Embedded input.\n",
    "    \"\"\"\n",
    "    # TODO: Implement Function\n",
    "    embedding = tf.Variable(tf.random_uniform((vocab_size, embed_dim)))\n",
    "    embed = tf.nn.embedding_lookup(embedding, input_data)\n",
    "    return embed\n",
    "\n",
    "\n",
    "\"\"\"\n",
    "DON'T MODIFY ANYTHING IN THIS CELL THAT IS BELOW THIS LINE\n",
    "\"\"\"\n",
    "tests.test_get_embed(get_embed)"
   ]
  },
  {
   "cell_type": "markdown",
   "metadata": {
    "deletable": true,
    "editable": true
   },
   "source": [
    "### Build RNN\n",
    "You created a RNN Cell in the `get_init_cell()` function.  Time to use the cell to create a RNN.\n",
    "- Build the RNN using the [`tf.nn.dynamic_rnn()`](https://www.tensorflow.org/api_docs/python/tf/nn/dynamic_rnn)\n",
    " - Apply the name \"final_state\" to the final state using [`tf.identity()`](https://www.tensorflow.org/api_docs/python/tf/identity)\n",
    "\n",
    "Return the outputs and final_state state in the following tuple `(Outputs, FinalState)` "
   ]
  },
  {
   "cell_type": "code",
   "execution_count": 67,
   "metadata": {
    "collapsed": false,
    "deletable": true,
    "editable": true
   },
   "outputs": [
    {
     "name": "stdout",
     "output_type": "stream",
     "text": [
      "Tests Passed\n"
     ]
    }
   ],
   "source": [
    "def build_rnn(cell, inputs):\n",
    "    \"\"\"\n",
    "    Create a RNN using a RNN Cell\n",
    "    :param cell: RNN Cell\n",
    "    :param inputs: Input text data\n",
    "    :return: Tuple (Outputs, Final State)\n",
    "    \"\"\"\n",
    "    # TODO: Implement Function\n",
    "    outputs, final_state = tf.nn.dynamic_rnn(cell, inputs, dtype=tf.float32)\n",
    "    final_state = tf.identity(final_state, name='final_state')\n",
    "    return outputs, final_state\n",
    "    \n",
    "\"\"\"\n",
    "DON'T MODIFY ANYTHING IN THIS CELL THAT IS BELOW THIS LINE\n",
    "\"\"\"\n",
    "tests.test_build_rnn(build_rnn)"
   ]
  },
  {
   "cell_type": "markdown",
   "metadata": {
    "deletable": true,
    "editable": true
   },
   "source": [
    "### Build the Neural Network\n",
    "Apply the functions you implemented above to:\n",
    "- Apply embedding to `input_data` using your `get_embed(input_data, vocab_size, embed_dim)` function.\n",
    "- Build RNN using `cell` and your `build_rnn(cell, inputs)` function.\n",
    "- Apply a fully connected layer with a linear activation and `vocab_size` as the number of outputs.\n",
    "\n",
    "Return the logits and final state in the following tuple (Logits, FinalState) "
   ]
  },
  {
   "cell_type": "code",
   "execution_count": 68,
   "metadata": {
    "collapsed": false,
    "deletable": true,
    "editable": true
   },
   "outputs": [
    {
     "name": "stdout",
     "output_type": "stream",
     "text": [
      "Tests Passed\n"
     ]
    }
   ],
   "source": [
    "def build_nn(cell, rnn_size, input_data, vocab_size):\n",
    "    # TODO: Implement Function\n",
    "    embed = get_embed(input_data, vocab_size, rnn_size)\n",
    "    outputs, final_state = build_rnn(cell, embed)\n",
    "    logits = tf.contrib.layers.fully_connected(outputs, vocab_size, \n",
    "                                           weights_initializer=tf.truncated_normal_initializer(stddev=0.01),\n",
    "                                           biases_initializer=tf.zeros_initializer(),\n",
    "                                           activation_fn=None)\n",
    "    return logits, final_state\n",
    "\n",
    "\n",
    "\n",
    "\"\"\"\n",
    "DON'T MODIFY ANYTHING IN THIS CELL THAT IS BELOW THIS LINE\n",
    "\"\"\"\n",
    "tests.test_build_nn(build_nn)"
   ]
  },
  {
   "cell_type": "markdown",
   "metadata": {
    "deletable": true,
    "editable": true
   },
   "source": [
    "### Batches\n",
    "Implement `get_batches` to create batches of input and targets using `int_text`.  The batches should be a Numpy array with the shape `(number of batches, 2, batch size, sequence length)`. Each batch contains two elements:\n",
    "- The first element is a single batch of **input** with the shape `[batch size, sequence length]`\n",
    "- The second element is a single batch of **targets** with the shape `[batch size, sequence length]`\n",
    "\n",
    "If you can't fill the last batch with enough data, drop the last batch.\n",
    "\n",
    "For exmple, `get_batches([1, 2, 3, 4, 5, 6, 7, 8, 9, 10, 11, 12, 13, 14, 15], 2, 3)` would return a Numpy array of the following:\n",
    "```\n",
    "[\n",
    "  # First Batch\n",
    "  [\n",
    "    # Batch of Input\n",
    "    [[ 1  2  3], [ 7  8  9]],\n",
    "    # Batch of targets\n",
    "    [[ 2  3  4], [ 8  9 10]]\n",
    "  ],\n",
    " \n",
    "  # Second Batch\n",
    "  [\n",
    "    # Batch of Input\n",
    "    [[ 4  5  6], [10 11 12]],\n",
    "    # Batch of targets\n",
    "    [[ 5  6  7], [11 12 13]]\n",
    "  ]\n",
    "]\n",
    "```"
   ]
  },
  {
   "cell_type": "code",
   "execution_count": 69,
   "metadata": {
    "collapsed": false,
    "deletable": true,
    "editable": true
   },
   "outputs": [],
   "source": [
    "def get_batches(int_text, batch_size, seq_length):\n",
    "    n_batches = int(len(int_text) / (batch_size * seq_length))\n",
    "\n",
    "    # Drop the last few characters to make only full batches\n",
    "    xdata = np.array(int_text[: n_batches * batch_size * seq_length])\n",
    "    ydata = np.array(int_text[1: n_batches * batch_size * seq_length + 1])\n",
    "\n",
    "    x_batches = np.split(xdata.reshape(batch_size, -1), n_batches, 1)\n",
    "    y_batches = np.split(ydata.reshape(batch_size, -1), n_batches, 1)\n",
    "\n",
    "    print(np.array(list(zip(x_batches, y_batches))))\n",
    "        \n",
    "    return np.array(list(zip(x_batches, y_batches)))"
   ]
  },
  {
   "cell_type": "markdown",
   "metadata": {
    "deletable": true,
    "editable": true
   },
   "source": [
    "## Neural Network Training\n",
    "### Hyperparameters\n",
    "Tune the following parameters:\n",
    "\n",
    "- Set `num_epochs` to the number of epochs.\n",
    "- Set `batch_size` to the batch size.\n",
    "- Set `rnn_size` to the size of the RNNs.\n",
    "- Set `seq_length` to the length of sequence.\n",
    "- Set `learning_rate` to the learning rate.\n",
    "- Set `show_every_n_batches` to the number of batches the neural network should print progress."
   ]
  },
  {
   "cell_type": "code",
   "execution_count": 70,
   "metadata": {
    "collapsed": true,
    "deletable": true,
    "editable": true
   },
   "outputs": [],
   "source": [
    "\n",
    "# Number of Epochs\n",
    "num_epochs = 300\n",
    "# Batch Size\n",
    "batch_size = 256\n",
    "# RNN Size\n",
    "rnn_size = 1024\n",
    "# Sequence Length\n",
    "seq_length = 15\n",
    "# Learning Rate\n",
    "learning_rate = 0.001\n",
    "# Show stats for every n number of batches\n",
    "show_every_n_batches = 20\n",
    "\n",
    "\"\"\"\n",
    "DON'T MODIFY ANYTHING IN THIS CELL THAT IS BELOW THIS LINE\n",
    "\"\"\"\n",
    "save_dir = './save'"
   ]
  },
  {
   "cell_type": "markdown",
   "metadata": {
    "deletable": true,
    "editable": true
   },
   "source": [
    "### Build the Graph\n",
    "Build the graph using the neural network you implemented."
   ]
  },
  {
   "cell_type": "code",
   "execution_count": 71,
   "metadata": {
    "collapsed": false,
    "deletable": true,
    "editable": true
   },
   "outputs": [],
   "source": [
    "\"\"\"\n",
    "DON'T MODIFY ANYTHING IN THIS CELL\n",
    "\"\"\"\n",
    "from tensorflow.contrib import seq2seq\n",
    "\n",
    "train_graph = tf.Graph()\n",
    "with train_graph.as_default():\n",
    "    vocab_size = len(int_to_vocab)\n",
    "    input_text, targets, lr = get_inputs()\n",
    "    input_data_shape = tf.shape(input_text)\n",
    "    cell, initial_state = get_init_cell(input_data_shape[0], rnn_size)\n",
    "    logits, final_state = build_nn(cell, rnn_size, input_text, vocab_size)\n",
    "\n",
    "    # Probabilities for generating words\n",
    "    probs = tf.nn.softmax(logits, name='probs')\n",
    "\n",
    "    # Loss function\n",
    "    cost = seq2seq.sequence_loss(\n",
    "        logits,\n",
    "        targets,\n",
    "        tf.ones([input_data_shape[0], input_data_shape[1]]))\n",
    "\n",
    "    # Optimizer\n",
    "    optimizer = tf.train.AdamOptimizer(lr)\n",
    "\n",
    "    # Gradient Clipping\n",
    "    gradients = optimizer.compute_gradients(cost)\n",
    "    capped_gradients = [(tf.clip_by_value(grad, -1., 1.), var) for grad, var in gradients]\n",
    "    train_op = optimizer.apply_gradients(capped_gradients)"
   ]
  },
  {
   "cell_type": "markdown",
   "metadata": {
    "deletable": true,
    "editable": true
   },
   "source": [
    "## Train\n",
    "Train the neural network on the preprocessed data.  If you have a hard time getting a good loss, check the [forms](https://discussions.udacity.com/) to see if anyone is having the same problem."
   ]
  },
  {
   "cell_type": "code",
   "execution_count": 72,
   "metadata": {
    "collapsed": false,
    "deletable": true,
    "editable": true
   },
   "outputs": [
    {
     "name": "stdout",
     "output_type": "stream",
     "text": [
      "[[[[5251 3668 4301 ..., 4291 5948 4272]\n",
      "   [2043 1124 3668 ..., 2833 4311 6776]\n",
      "   [4282 4269  515 ..., 3057 5104 2373]\n",
      "   ..., \n",
      "   [2187  650   19 ..., 6032 6038 2043]\n",
      "   [4272 4272 5681 ..., 5545 4272 2043]\n",
      "   [6453 4712 4282 ..., 5787 4051 2373]]\n",
      "\n",
      "  [[3668 4301  245 ..., 5948 4272 2043]\n",
      "   [1124 3668  482 ..., 4311 6776 4269]\n",
      "   [4269  515 4282 ..., 5104 2373 2043]\n",
      "   ..., \n",
      "   [ 650   19 2373 ..., 6038 2043 5251]\n",
      "   [4272 5681 4272 ..., 4272 2043 5251]\n",
      "   [4712 4282 1084 ..., 4051 2373 1084]]]\n",
      "\n",
      "\n",
      " [[[2043 4954 3102 ..., 6113 4323 4282]\n",
      "   [4269 1716 4272 ..., 1272 2870 3990]\n",
      "   [2043 3506 2032 ..., 4467 6038 2043]\n",
      "   ..., \n",
      "   [5251 3668  453 ..., 5474 6697  671]\n",
      "   [5251 3668 1986 ..., 5826 4282 1796]\n",
      "   [1084 2043 5251 ..., 5810 3668 3439]]\n",
      "\n",
      "  [[4954 3102 4282 ..., 4323 4282 3815]\n",
      "   [1716 4272 2043 ..., 2870 3990 4683]\n",
      "   [3506 2032 2870 ..., 6038 2043 3506]\n",
      "   ..., \n",
      "   [3668  453  576 ..., 6697  671  172]\n",
      "   [3668 1986  576 ..., 4282 1796 4272]\n",
      "   [2043 5251 5545 ..., 3668 3439  576]]]\n",
      "\n",
      "\n",
      " [[[3815 4272 2043 ..., 3054 4272 3668]\n",
      "   [4683 4272 2043 ..., 1769 2733 1627]\n",
      "   [3506 2074 2373 ..., 2870 5602 6038]\n",
      "   ..., \n",
      "   [ 172 4774 4269 ..., 3668  798  576]\n",
      "   [4272 5545 4654 ..., 4996 5852 4874]\n",
      "   [ 576 1519 2718 ..., 5014 6019 4272]]\n",
      "\n",
      "  [[4272 2043 5251 ..., 4272 3668 4291]\n",
      "   [4272 2043 3506 ..., 2733 1627 4282]\n",
      "   [2074 2373 2870 ..., 5602 6038 2043]\n",
      "   ..., \n",
      "   [4774 4269  397 ...,  798  576 2463]\n",
      "   [5545 4654  688 ..., 5852 4874 6776]\n",
      "   [1519 2718 4272 ..., 6019 4272 2043]]]\n",
      "\n",
      "\n",
      " ..., \n",
      " [[[5014 6019 4272 ..., 4269 5318 4272]\n",
      "   [5489 3993 6216 ..., 2043 3506 4646]\n",
      "   [4272 2043 5251 ..., 1117  576 3004]\n",
      "   ..., \n",
      "   [2043 4139 3532 ..., 4336  319 6019]\n",
      "   [3532 4272 2043 ..., 5545 6278 5014]\n",
      "   [ 408 4272 6216 ..., 4291 4322 4311]]\n",
      "\n",
      "  [[6019 4272 2861 ..., 5318 4272 3668]\n",
      "   [3993 6216 4388 ..., 3506 4646 4282]\n",
      "   [2043 5251 2918 ...,  576 3004 4272]\n",
      "   ..., \n",
      "   [4139 3532 4269 ...,  319 6019 2373]\n",
      "   [4272 2043 5251 ..., 6278 5014 6019]\n",
      "   [4272 6216 1650 ..., 4322 4311 4344]]]\n",
      "\n",
      "\n",
      " [[[3668 3694  576 ..., 4137 6038 5489]\n",
      "   [4282 6216 2047 ..., 5050 4282 6553]\n",
      "   [4272  192 4186 ...,  576 4994 4269]\n",
      "   ..., \n",
      "   [2373 2043 5251 ..., 4047 4865 4291]\n",
      "   [6019 4282 3102 ..., 5545 2833 1184]\n",
      "   [4344 4272 2043 ..., 6700 4186 6067]]\n",
      "\n",
      "  [[3694  576 2043 ..., 6038 5489 1718]\n",
      "   [6216 2047 4291 ..., 4282 6553 6216]\n",
      "   [ 192 4186 5951 ..., 4994 4269 6723]\n",
      "   ..., \n",
      "   [2043 5251 3668 ..., 4865 4291 2689]\n",
      "   [4282 3102 2373 ..., 2833 1184 2373]\n",
      "   [4272 2043 5251 ..., 4186 6067 4931]]]\n",
      "\n",
      "\n",
      " [[[1718 1163 2438 ..., 4272 4272 4272]\n",
      "   [6216 2614 2870 ..., 4272 4269 3482]\n",
      "   [6723 4282 2132 ..., 6038 2043 1987]\n",
      "   ..., \n",
      "   [2689 4291 6365 ..., 5810  549 4272]\n",
      "   [2373 2043 5810 ..., 3107 4996 4255]\n",
      "   [4931  516 4996 ..., 4272 2043 5251]]\n",
      "\n",
      "  [[1163 2438 2373 ..., 4272 4272 2043]\n",
      "   [2614 2870 6629 ..., 4269 3482 4282]\n",
      "   [4282 2132 2373 ..., 2043 1987 3668]\n",
      "   ..., \n",
      "   [4291 6365 4272 ...,  549 4272 4272]\n",
      "   [2043 5810 6216 ..., 4996 4255 6453]\n",
      "   [ 516 4996 2452 ..., 2043 5251 3668]]]]\n",
      "Epoch   0 Batch    0/17   train_loss = 8.822\n",
      "Epoch   1 Batch    3/17   train_loss = 6.123\n",
      "Epoch   2 Batch    6/17   train_loss = 6.064\n",
      "Epoch   3 Batch    9/17   train_loss = 6.041\n",
      "Epoch   4 Batch   12/17   train_loss = 5.992\n",
      "Epoch   5 Batch   15/17   train_loss = 5.984\n",
      "Epoch   7 Batch    1/17   train_loss = 5.918\n",
      "Epoch   8 Batch    4/17   train_loss = 5.917\n",
      "Epoch   9 Batch    7/17   train_loss = 5.843\n",
      "Epoch  10 Batch   10/17   train_loss = 5.769\n",
      "Epoch  11 Batch   13/17   train_loss = 5.708\n",
      "Epoch  12 Batch   16/17   train_loss = 5.672\n",
      "Epoch  14 Batch    2/17   train_loss = 5.579\n",
      "Epoch  15 Batch    5/17   train_loss = 5.604\n",
      "Epoch  16 Batch    8/17   train_loss = 5.449\n",
      "Epoch  17 Batch   11/17   train_loss = 5.433\n",
      "Epoch  18 Batch   14/17   train_loss = 5.397\n",
      "Epoch  20 Batch    0/17   train_loss = 5.369\n",
      "Epoch  21 Batch    3/17   train_loss = 5.369\n",
      "Epoch  22 Batch    6/17   train_loss = 5.354\n",
      "Epoch  23 Batch    9/17   train_loss = 5.293\n",
      "Epoch  24 Batch   12/17   train_loss = 5.175\n",
      "Epoch  25 Batch   15/17   train_loss = 5.137\n",
      "Epoch  27 Batch    1/17   train_loss = 5.064\n",
      "Epoch  28 Batch    4/17   train_loss = 5.078\n",
      "Epoch  29 Batch    7/17   train_loss = 5.028\n",
      "Epoch  30 Batch   10/17   train_loss = 4.975\n",
      "Epoch  31 Batch   13/17   train_loss = 4.931\n",
      "Epoch  32 Batch   16/17   train_loss = 4.852\n",
      "Epoch  34 Batch    2/17   train_loss = 4.809\n",
      "Epoch  35 Batch    5/17   train_loss = 4.831\n",
      "Epoch  36 Batch    8/17   train_loss = 4.690\n",
      "Epoch  37 Batch   11/17   train_loss = 4.661\n",
      "Epoch  38 Batch   14/17   train_loss = 4.637\n",
      "Epoch  40 Batch    0/17   train_loss = 4.664\n",
      "Epoch  41 Batch    3/17   train_loss = 4.638\n",
      "Epoch  42 Batch    6/17   train_loss = 4.568\n",
      "Epoch  43 Batch    9/17   train_loss = 4.557\n",
      "Epoch  44 Batch   12/17   train_loss = 4.419\n",
      "Epoch  45 Batch   15/17   train_loss = 4.425\n",
      "Epoch  47 Batch    1/17   train_loss = 4.381\n",
      "Epoch  48 Batch    4/17   train_loss = 4.377\n",
      "Epoch  49 Batch    7/17   train_loss = 4.344\n",
      "Epoch  50 Batch   10/17   train_loss = 4.310\n",
      "Epoch  51 Batch   13/17   train_loss = 4.249\n",
      "Epoch  52 Batch   16/17   train_loss = 4.223\n",
      "Epoch  54 Batch    2/17   train_loss = 4.202\n",
      "Epoch  55 Batch    5/17   train_loss = 4.204\n",
      "Epoch  56 Batch    8/17   train_loss = 4.115\n",
      "Epoch  57 Batch   11/17   train_loss = 4.056\n",
      "Epoch  58 Batch   14/17   train_loss = 4.062\n",
      "Epoch  60 Batch    0/17   train_loss = 4.096\n",
      "Epoch  61 Batch    3/17   train_loss = 4.152\n",
      "Epoch  62 Batch    6/17   train_loss = 4.033\n",
      "Epoch  63 Batch    9/17   train_loss = 4.031\n",
      "Epoch  64 Batch   12/17   train_loss = 3.861\n",
      "Epoch  65 Batch   15/17   train_loss = 3.917\n",
      "Epoch  67 Batch    1/17   train_loss = 3.864\n",
      "Epoch  68 Batch    4/17   train_loss = 3.880\n",
      "Epoch  69 Batch    7/17   train_loss = 3.860\n",
      "Epoch  70 Batch   10/17   train_loss = 3.836\n",
      "Epoch  71 Batch   13/17   train_loss = 3.765\n",
      "Epoch  72 Batch   16/17   train_loss = 3.795\n",
      "Epoch  74 Batch    2/17   train_loss = 3.824\n",
      "Epoch  75 Batch    5/17   train_loss = 3.750\n",
      "Epoch  76 Batch    8/17   train_loss = 3.681\n",
      "Epoch  77 Batch   11/17   train_loss = 3.602\n",
      "Epoch  78 Batch   14/17   train_loss = 3.589\n",
      "Epoch  80 Batch    0/17   train_loss = 3.531\n",
      "Epoch  81 Batch    3/17   train_loss = 3.572\n",
      "Epoch  82 Batch    6/17   train_loss = 3.450\n",
      "Epoch  83 Batch    9/17   train_loss = 3.458\n",
      "Epoch  84 Batch   12/17   train_loss = 3.339\n",
      "Epoch  85 Batch   15/17   train_loss = 3.340\n",
      "Epoch  87 Batch    1/17   train_loss = 3.302\n",
      "Epoch  88 Batch    4/17   train_loss = 3.296\n",
      "Epoch  89 Batch    7/17   train_loss = 3.274\n",
      "Epoch  90 Batch   10/17   train_loss = 3.206\n",
      "Epoch  91 Batch   13/17   train_loss = 3.095\n",
      "Epoch  92 Batch   16/17   train_loss = 3.110\n",
      "Epoch  94 Batch    2/17   train_loss = 3.063\n",
      "Epoch  95 Batch    5/17   train_loss = 3.036\n",
      "Epoch  96 Batch    8/17   train_loss = 3.002\n",
      "Epoch  97 Batch   11/17   train_loss = 2.902\n",
      "Epoch  98 Batch   14/17   train_loss = 2.905\n",
      "Epoch 100 Batch    0/17   train_loss = 2.922\n",
      "Epoch 101 Batch    3/17   train_loss = 3.041\n",
      "Epoch 102 Batch    6/17   train_loss = 2.943\n",
      "Epoch 103 Batch    9/17   train_loss = 2.875\n",
      "Epoch 104 Batch   12/17   train_loss = 2.736\n",
      "Epoch 105 Batch   15/17   train_loss = 2.800\n",
      "Epoch 107 Batch    1/17   train_loss = 2.718\n",
      "Epoch 108 Batch    4/17   train_loss = 2.657\n",
      "Epoch 109 Batch    7/17   train_loss = 2.604\n",
      "Epoch 110 Batch   10/17   train_loss = 2.524\n",
      "Epoch 111 Batch   13/17   train_loss = 2.432\n",
      "Epoch 112 Batch   16/17   train_loss = 2.471\n",
      "Epoch 114 Batch    2/17   train_loss = 2.438\n",
      "Epoch 115 Batch    5/17   train_loss = 2.399\n",
      "Epoch 116 Batch    8/17   train_loss = 2.401\n",
      "Epoch 117 Batch   11/17   train_loss = 2.287\n",
      "Epoch 118 Batch   14/17   train_loss = 2.316\n",
      "Epoch 120 Batch    0/17   train_loss = 2.300\n",
      "Epoch 121 Batch    3/17   train_loss = 2.255\n",
      "Epoch 122 Batch    6/17   train_loss = 2.222\n",
      "Epoch 123 Batch    9/17   train_loss = 2.173\n",
      "Epoch 124 Batch   12/17   train_loss = 2.122\n",
      "Epoch 125 Batch   15/17   train_loss = 2.142\n",
      "Epoch 127 Batch    1/17   train_loss = 2.127\n",
      "Epoch 128 Batch    4/17   train_loss = 2.091\n",
      "Epoch 129 Batch    7/17   train_loss = 2.045\n",
      "Epoch 130 Batch   10/17   train_loss = 1.997\n",
      "Epoch 131 Batch   13/17   train_loss = 1.952\n",
      "Epoch 132 Batch   16/17   train_loss = 1.968\n",
      "Epoch 134 Batch    2/17   train_loss = 1.931\n",
      "Epoch 135 Batch    5/17   train_loss = 1.905\n",
      "Epoch 136 Batch    8/17   train_loss = 1.911\n",
      "Epoch 137 Batch   11/17   train_loss = 1.819\n",
      "Epoch 138 Batch   14/17   train_loss = 1.846\n",
      "Epoch 140 Batch    0/17   train_loss = 1.812\n",
      "Epoch 141 Batch    3/17   train_loss = 1.792\n",
      "Epoch 142 Batch    6/17   train_loss = 1.755\n",
      "Epoch 143 Batch    9/17   train_loss = 1.719\n",
      "Epoch 144 Batch   12/17   train_loss = 1.687\n",
      "Epoch 145 Batch   15/17   train_loss = 1.694\n",
      "Epoch 147 Batch    1/17   train_loss = 1.721\n",
      "Epoch 148 Batch    4/17   train_loss = 1.645\n",
      "Epoch 149 Batch    7/17   train_loss = 1.662\n",
      "Epoch 150 Batch   10/17   train_loss = 1.575\n",
      "Epoch 151 Batch   13/17   train_loss = 1.536\n",
      "Epoch 152 Batch   16/17   train_loss = 1.555\n",
      "Epoch 154 Batch    2/17   train_loss = 1.531\n",
      "Epoch 155 Batch    5/17   train_loss = 1.522\n",
      "Epoch 156 Batch    8/17   train_loss = 1.542\n",
      "Epoch 157 Batch   11/17   train_loss = 1.433\n",
      "Epoch 158 Batch   14/17   train_loss = 1.463\n",
      "Epoch 160 Batch    0/17   train_loss = 1.428\n",
      "Epoch 161 Batch    3/17   train_loss = 1.413\n",
      "Epoch 162 Batch    6/17   train_loss = 1.410\n",
      "Epoch 163 Batch    9/17   train_loss = 1.354\n",
      "Epoch 164 Batch   12/17   train_loss = 1.392\n",
      "Epoch 165 Batch   15/17   train_loss = 1.388\n",
      "Epoch 167 Batch    1/17   train_loss = 1.389\n",
      "Epoch 168 Batch    4/17   train_loss = 1.344\n",
      "Epoch 169 Batch    7/17   train_loss = 1.321\n",
      "Epoch 170 Batch   10/17   train_loss = 1.282\n",
      "Epoch 171 Batch   13/17   train_loss = 1.252\n",
      "Epoch 172 Batch   16/17   train_loss = 1.301\n",
      "Epoch 174 Batch    2/17   train_loss = 1.231\n",
      "Epoch 175 Batch    5/17   train_loss = 1.234\n",
      "Epoch 176 Batch    8/17   train_loss = 1.257\n",
      "Epoch 177 Batch   11/17   train_loss = 1.189\n",
      "Epoch 178 Batch   14/17   train_loss = 1.250\n",
      "Epoch 180 Batch    0/17   train_loss = 1.215\n",
      "Epoch 181 Batch    3/17   train_loss = 1.158\n",
      "Epoch 182 Batch    6/17   train_loss = 1.222\n",
      "Epoch 183 Batch    9/17   train_loss = 1.217\n",
      "Epoch 184 Batch   12/17   train_loss = 1.192\n",
      "Epoch 185 Batch   15/17   train_loss = 1.194\n",
      "Epoch 187 Batch    1/17   train_loss = 1.236\n",
      "Epoch 188 Batch    4/17   train_loss = 1.143\n",
      "Epoch 189 Batch    7/17   train_loss = 1.171\n",
      "Epoch 190 Batch   10/17   train_loss = 1.229\n",
      "Epoch 191 Batch   13/17   train_loss = 1.104\n",
      "Epoch 192 Batch   16/17   train_loss = 1.147\n",
      "Epoch 194 Batch    2/17   train_loss = 1.181\n",
      "Epoch 195 Batch    5/17   train_loss = 1.206\n",
      "Epoch 196 Batch    8/17   train_loss = 1.200\n",
      "Epoch 197 Batch   11/17   train_loss = 1.079\n",
      "Epoch 198 Batch   14/17   train_loss = 1.053\n",
      "Epoch 200 Batch    0/17   train_loss = 1.049\n",
      "Epoch 201 Batch    3/17   train_loss = 1.168\n",
      "Epoch 202 Batch    6/17   train_loss = 1.193\n",
      "Epoch 203 Batch    9/17   train_loss = 1.039\n",
      "Epoch 204 Batch   12/17   train_loss = 0.961\n",
      "Epoch 205 Batch   15/17   train_loss = 0.980\n",
      "Epoch 207 Batch    1/17   train_loss = 0.978\n",
      "Epoch 208 Batch    4/17   train_loss = 0.909\n",
      "Epoch 209 Batch    7/17   train_loss = 0.923\n",
      "Epoch 210 Batch   10/17   train_loss = 0.864\n",
      "Epoch 211 Batch   13/17   train_loss = 0.898\n",
      "Epoch 212 Batch   16/17   train_loss = 0.876\n",
      "Epoch 214 Batch    2/17   train_loss = 0.817\n",
      "Epoch 215 Batch    5/17   train_loss = 0.837\n",
      "Epoch 216 Batch    8/17   train_loss = 0.849\n",
      "Epoch 217 Batch   11/17   train_loss = 0.811\n",
      "Epoch 218 Batch   14/17   train_loss = 0.837\n",
      "Epoch 220 Batch    0/17   train_loss = 0.840\n",
      "Epoch 221 Batch    3/17   train_loss = 0.798\n",
      "Epoch 222 Batch    6/17   train_loss = 0.798\n",
      "Epoch 223 Batch    9/17   train_loss = 0.761\n",
      "Epoch 224 Batch   12/17   train_loss = 0.808\n",
      "Epoch 225 Batch   15/17   train_loss = 0.769\n",
      "Epoch 227 Batch    1/17   train_loss = 0.812\n",
      "Epoch 228 Batch    4/17   train_loss = 0.766\n",
      "Epoch 229 Batch    7/17   train_loss = 0.742\n",
      "Epoch 230 Batch   10/17   train_loss = 0.751\n",
      "Epoch 231 Batch   13/17   train_loss = 0.749\n",
      "Epoch 232 Batch   16/17   train_loss = 0.743\n",
      "Epoch 234 Batch    2/17   train_loss = 0.733\n",
      "Epoch 235 Batch    5/17   train_loss = 0.708\n",
      "Epoch 236 Batch    8/17   train_loss = 0.714\n",
      "Epoch 237 Batch   11/17   train_loss = 0.694\n",
      "Epoch 238 Batch   14/17   train_loss = 0.742\n",
      "Epoch 240 Batch    0/17   train_loss = 0.685\n",
      "Epoch 241 Batch    3/17   train_loss = 0.703\n",
      "Epoch 242 Batch    6/17   train_loss = 0.685\n",
      "Epoch 243 Batch    9/17   train_loss = 0.646\n",
      "Epoch 244 Batch   12/17   train_loss = 0.698\n",
      "Epoch 245 Batch   15/17   train_loss = 0.704\n",
      "Epoch 247 Batch    1/17   train_loss = 0.677\n",
      "Epoch 248 Batch    4/17   train_loss = 0.687\n",
      "Epoch 249 Batch    7/17   train_loss = 0.689\n",
      "Epoch 250 Batch   10/17   train_loss = 0.668\n",
      "Epoch 251 Batch   13/17   train_loss = 0.674\n",
      "Epoch 252 Batch   16/17   train_loss = 0.698\n",
      "Epoch 254 Batch    2/17   train_loss = 0.666\n",
      "Epoch 255 Batch    5/17   train_loss = 0.681\n",
      "Epoch 256 Batch    8/17   train_loss = 0.784\n",
      "Epoch 257 Batch   11/17   train_loss = 0.702\n",
      "Epoch 258 Batch   14/17   train_loss = 0.743\n",
      "Epoch 260 Batch    0/17   train_loss = 0.796\n",
      "Epoch 261 Batch    3/17   train_loss = 0.853\n",
      "Epoch 262 Batch    6/17   train_loss = 0.796\n",
      "Epoch 263 Batch    9/17   train_loss = 0.704\n",
      "Epoch 264 Batch   12/17   train_loss = 0.665\n",
      "Epoch 265 Batch   15/17   train_loss = 0.622\n",
      "Epoch 267 Batch    1/17   train_loss = 0.675\n",
      "Epoch 268 Batch    4/17   train_loss = 0.662\n",
      "Epoch 269 Batch    7/17   train_loss = 0.606\n",
      "Epoch 270 Batch   10/17   train_loss = 0.578\n",
      "Epoch 271 Batch   13/17   train_loss = 0.584\n",
      "Epoch 272 Batch   16/17   train_loss = 0.591\n",
      "Epoch 274 Batch    2/17   train_loss = 0.583\n",
      "Epoch 275 Batch    5/17   train_loss = 0.573\n",
      "Epoch 276 Batch    8/17   train_loss = 0.554\n",
      "Epoch 277 Batch   11/17   train_loss = 0.546\n",
      "Epoch 278 Batch   14/17   train_loss = 0.589\n",
      "Epoch 280 Batch    0/17   train_loss = 0.550\n",
      "Epoch 281 Batch    3/17   train_loss = 0.554\n",
      "Epoch 282 Batch    6/17   train_loss = 0.591\n",
      "Epoch 283 Batch    9/17   train_loss = 0.527\n",
      "Epoch 284 Batch   12/17   train_loss = 0.545\n",
      "Epoch 285 Batch   15/17   train_loss = 0.586\n",
      "Epoch 287 Batch    1/17   train_loss = 0.656\n",
      "Epoch 288 Batch    4/17   train_loss = 0.558\n",
      "Epoch 289 Batch    7/17   train_loss = 0.558\n",
      "Epoch 290 Batch   10/17   train_loss = 0.619\n",
      "Epoch 291 Batch   13/17   train_loss = 0.625\n",
      "Epoch 292 Batch   16/17   train_loss = 0.545\n",
      "Epoch 294 Batch    2/17   train_loss = 0.521\n",
      "Epoch 295 Batch    5/17   train_loss = 0.487\n",
      "Epoch 296 Batch    8/17   train_loss = 0.489\n",
      "Epoch 297 Batch   11/17   train_loss = 0.504\n",
      "Epoch 298 Batch   14/17   train_loss = 0.533\n",
      "Model Trained and Saved\n"
     ]
    }
   ],
   "source": [
    "\"\"\"\n",
    "DON'T MODIFY ANYTHING IN THIS CELL\n",
    "\"\"\"\n",
    "batches = get_batches(int_text, batch_size, seq_length)\n",
    "\n",
    "with tf.Session(graph=train_graph) as sess:\n",
    "    sess.run(tf.global_variables_initializer())\n",
    "\n",
    "    for epoch_i in range(num_epochs):\n",
    "        state = sess.run(initial_state, {input_text: batches[0][0]})\n",
    "\n",
    "        for batch_i, (x, y) in enumerate(batches):\n",
    "            feed = {\n",
    "                input_text: x,\n",
    "                targets: y,\n",
    "                initial_state: state,\n",
    "                lr: learning_rate}\n",
    "            train_loss, state, _ = sess.run([cost, final_state, train_op], feed)\n",
    "\n",
    "            # Show every <show_every_n_batches> batches\n",
    "            if (epoch_i * len(batches) + batch_i) % show_every_n_batches == 0:\n",
    "                print('Epoch {:>3} Batch {:>4}/{}   train_loss = {:.3f}'.format(\n",
    "                    epoch_i,\n",
    "                    batch_i,\n",
    "                    len(batches),\n",
    "                    train_loss))\n",
    "\n",
    "    # Save Model\n",
    "    saver = tf.train.Saver()\n",
    "    saver.save(sess, save_dir)\n",
    "    print('Model Trained and Saved')"
   ]
  },
  {
   "cell_type": "markdown",
   "metadata": {
    "deletable": true,
    "editable": true
   },
   "source": [
    "## Save Parameters\n",
    "Save `seq_length` and `save_dir` for generating a new TV script."
   ]
  },
  {
   "cell_type": "code",
   "execution_count": 73,
   "metadata": {
    "collapsed": false,
    "deletable": true,
    "editable": true
   },
   "outputs": [],
   "source": [
    "\"\"\"\n",
    "DON'T MODIFY ANYTHING IN THIS CELL\n",
    "\"\"\"\n",
    "# Save parameters for checkpoint\n",
    "helper.save_params((seq_length, save_dir))"
   ]
  },
  {
   "cell_type": "markdown",
   "metadata": {
    "deletable": true,
    "editable": true
   },
   "source": [
    "# Checkpoint"
   ]
  },
  {
   "cell_type": "code",
   "execution_count": 74,
   "metadata": {
    "collapsed": false,
    "deletable": true,
    "editable": true
   },
   "outputs": [],
   "source": [
    "\"\"\"\n",
    "DON'T MODIFY ANYTHING IN THIS CELL\n",
    "\"\"\"\n",
    "import tensorflow as tf\n",
    "import numpy as np\n",
    "import helper\n",
    "import problem_unittests as tests\n",
    "\n",
    "_, vocab_to_int, int_to_vocab, token_dict = helper.load_preprocess()\n",
    "seq_length, load_dir = helper.load_params()"
   ]
  },
  {
   "cell_type": "markdown",
   "metadata": {
    "deletable": true,
    "editable": true
   },
   "source": [
    "## Implement Generate Functions\n",
    "### Get Tensors\n",
    "Get tensors from `loaded_graph` using the function [`get_tensor_by_name()`](https://www.tensorflow.org/api_docs/python/tf/Graph#get_tensor_by_name).  Get the tensors using the following names:\n",
    "- \"input:0\"\n",
    "- \"initial_state:0\"\n",
    "- \"final_state:0\"\n",
    "- \"probs:0\"\n",
    "\n",
    "Return the tensors in the following tuple `(InputTensor, InitialStateTensor, FinalStateTensor, ProbsTensor)` "
   ]
  },
  {
   "cell_type": "code",
   "execution_count": 75,
   "metadata": {
    "collapsed": false,
    "deletable": true,
    "editable": true
   },
   "outputs": [
    {
     "name": "stdout",
     "output_type": "stream",
     "text": [
      "Tests Passed\n"
     ]
    }
   ],
   "source": [
    "def get_tensors(loaded_graph):\n",
    "    \"\"\"\n",
    "    Get input, initial state, final state, and probabilities tensor from <loaded_graph>\n",
    "    :param loaded_graph: TensorFlow graph loaded from file\n",
    "    :return: Tuple (InputTensor, InitialStateTensor, FinalStateTensor, ProbsTensor)\n",
    "    \"\"\"\n",
    "    # TODO: Implement Function\n",
    "    InputTensor = loaded_graph.get_tensor_by_name(\"input:0\")\n",
    "    InitialStateTensor = loaded_graph.get_tensor_by_name(\"initial_state:0\")\n",
    "    FinalStateTensor = loaded_graph.get_tensor_by_name(\"final_state:0\")\n",
    "    ProbsTensor = loaded_graph.get_tensor_by_name(\"probs:0\")\n",
    "    return(InputTensor, InitialStateTensor, FinalStateTensor, ProbsTensor)\n",
    "\n",
    "\n",
    "\"\"\"\n",
    "DON'T MODIFY ANYTHING IN THIS CELL THAT IS BELOW THIS LINE\n",
    "\"\"\"\n",
    "tests.test_get_tensors(get_tensors)"
   ]
  },
  {
   "cell_type": "markdown",
   "metadata": {
    "deletable": true,
    "editable": true
   },
   "source": [
    "### Choose Word\n",
    "Implement the `pick_word()` function to select the next word using `probabilities`."
   ]
  },
  {
   "cell_type": "code",
   "execution_count": 76,
   "metadata": {
    "collapsed": false,
    "deletable": true,
    "editable": true
   },
   "outputs": [
    {
     "name": "stdout",
     "output_type": "stream",
     "text": [
      "Tests Passed\n"
     ]
    }
   ],
   "source": [
    "def pick_word(probabilities, int_to_vocab):\n",
    "    \"\"\"\n",
    "    Pick the next word in the generated text\n",
    "    :param probabilities: Probabilites of the next word\n",
    "    :param int_to_vocab: Dictionary of word ids as the keys and words as the values\n",
    "    :return: String of the predicted word\n",
    "    \"\"\"\n",
    "    # TODO: Implement \n",
    "    return int_to_vocab.get(probabilities.argmax(axis=0))\n",
    "\n",
    "\n",
    "\n",
    "\n",
    "\n",
    "\"\"\"\n",
    "DON'T MODIFY ANYTHING IN THIS CELL THAT IS BELOW THIS LINE\n",
    "\"\"\"\n",
    "tests.test_pick_word(pick_word)"
   ]
  },
  {
   "cell_type": "markdown",
   "metadata": {
    "deletable": true,
    "editable": true
   },
   "source": [
    "## Generate TV Script\n",
    "This will generate the TV script for you.  Set `gen_length` to the length of TV script you want to generate."
   ]
  },
  {
   "cell_type": "code",
   "execution_count": 77,
   "metadata": {
    "collapsed": false,
    "deletable": true,
    "editable": true
   },
   "outputs": [
    {
     "name": "stdout",
     "output_type": "stream",
     "text": [
      "moe_szyslak:(defensive) you made some good friends, didn't ya?\n",
      "moe_szyslak: just guys, that was there a good thing.\n",
      "moe_szyslak:(moan) hey sotto, i can't look it. it might comes a lot for a wife.\n",
      "chief_wiggum: oh well, you take me that is.\n",
      "moe_szyslak: uh,(belch)) whoa, it. me.\n",
      "moe_szyslak:(lost) all right, i don't know about on my family, put?\n",
      "moe_szyslak: i'm-- you take a\" coat(too) that great in our money, homer. you really have to okay.\n",
      "homer_simpson: hey, i can't check to you. 'cause i can't are a man like.\n",
      "homer_simpson: you tell, i should have.\n",
      "barney_gumble: i was just a new world to 'cause...\n",
      "moe_szyslak: yeah, but it is where?...\n",
      "homer_simpson: well, i'm so from this.\n",
      "kemi: i like you, i thought i won't get it to do for the three thing.\n",
      "homer_simpson: i dunno.\n"
     ]
    }
   ],
   "source": [
    "gen_length = 200\n",
    "# homer_simpson, moe_szyslak, or Barney_Gumble\n",
    "prime_word = 'moe_szyslak'\n",
    "\n",
    "\"\"\"\n",
    "DON'T MODIFY ANYTHING IN THIS CELL THAT IS BELOW THIS LINE\n",
    "\"\"\"\n",
    "loaded_graph = tf.Graph()\n",
    "with tf.Session(graph=loaded_graph) as sess:\n",
    "    # Load saved model\n",
    "    loader = tf.train.import_meta_graph(load_dir + '.meta')\n",
    "    loader.restore(sess, load_dir)\n",
    "\n",
    "    # Get Tensors from loaded model\n",
    "    input_text, initial_state, final_state, probs = get_tensors(loaded_graph)\n",
    "\n",
    "    # Sentences generation setup\n",
    "    gen_sentences = [prime_word + ':']\n",
    "    prev_state = sess.run(initial_state, {input_text: np.array([[1]])})\n",
    "\n",
    "    # Generate sentences\n",
    "    for n in range(gen_length):\n",
    "        # Dynamic Input\n",
    "        dyn_input = [[vocab_to_int[word] for word in gen_sentences[-seq_length:]]]\n",
    "        dyn_seq_length = len(dyn_input[0])\n",
    "\n",
    "        # Get Prediction\n",
    "        probabilities, prev_state = sess.run(\n",
    "            [probs, final_state],\n",
    "            {input_text: dyn_input, initial_state: prev_state})\n",
    "        \n",
    "        pred_word = pick_word(probabilities[dyn_seq_length-1], int_to_vocab)\n",
    "\n",
    "        gen_sentences.append(pred_word)\n",
    "    \n",
    "    # Remove tokens\n",
    "    tv_script = ' '.join(gen_sentences)\n",
    "    for key, token in token_dict.items():\n",
    "        ending = ' ' if key in ['\\n', '(', '\"'] else ''\n",
    "        tv_script = tv_script.replace(' ' + token.lower(), key)\n",
    "    tv_script = tv_script.replace('\\n ', '\\n')\n",
    "    tv_script = tv_script.replace('( ', '(')\n",
    "        \n",
    "    print(tv_script)"
   ]
  },
  {
   "cell_type": "markdown",
   "metadata": {
    "deletable": true,
    "editable": true
   },
   "source": [
    "# The TV Script is Nonsensical\n",
    "It's ok if the TV script doesn't make any sense.  We trained on less than a megabyte of text.  In order to get good results, you'll have to use a smaller vocabulary or get more data.  Luckly there's more data!  As we mentioned in the begging of this project, this is a subset of [another dataset](https://www.kaggle.com/wcukierski/the-simpsons-by-the-data).  We didn't have you train on all the data, because that would take too long.  However, you are free to train your neural network on all the data.  After you complete the project, of course.\n",
    "# Submitting This Project\n",
    "When submitting this project, make sure to run all the cells before saving the notebook. Save the notebook file as \"dlnd_tv_script_generation.ipynb\" and save it as a HTML file under \"File\" -> \"Download as\". Include the \"helper.py\" and \"problem_unittests.py\" files in your submission."
   ]
  },
  {
   "cell_type": "code",
   "execution_count": null,
   "metadata": {
    "collapsed": true,
    "deletable": true,
    "editable": true
   },
   "outputs": [],
   "source": []
  },
  {
   "cell_type": "code",
   "execution_count": null,
   "metadata": {
    "collapsed": true,
    "deletable": true,
    "editable": true
   },
   "outputs": [],
   "source": []
  },
  {
   "cell_type": "code",
   "execution_count": null,
   "metadata": {
    "collapsed": true,
    "deletable": true,
    "editable": true
   },
   "outputs": [],
   "source": []
  },
  {
   "cell_type": "code",
   "execution_count": null,
   "metadata": {
    "collapsed": true,
    "deletable": true,
    "editable": true
   },
   "outputs": [],
   "source": []
  }
 ],
 "metadata": {
  "kernelspec": {
   "display_name": "Python 3",
   "language": "python",
   "name": "python3"
  },
  "language_info": {
   "codemirror_mode": {
    "name": "ipython",
    "version": 3
   },
   "file_extension": ".py",
   "mimetype": "text/x-python",
   "name": "python",
   "nbconvert_exporter": "python",
   "pygments_lexer": "ipython3",
   "version": "3.5.2"
  },
  "widgets": {
   "state": {},
   "version": "1.1.2"
  }
 },
 "nbformat": 4,
 "nbformat_minor": 0
}
